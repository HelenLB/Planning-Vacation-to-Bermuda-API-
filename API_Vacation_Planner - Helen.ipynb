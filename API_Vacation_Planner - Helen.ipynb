{
 "cells": [
  {
   "cell_type": "code",
   "execution_count": 1,
   "id": "8912a2cc",
   "metadata": {
    "ExecuteTime": {
     "end_time": "2022-11-18T09:28:42.606732Z",
     "start_time": "2022-11-18T09:28:42.487632Z"
    }
   },
   "outputs": [],
   "source": [
    "# Dependencies\n",
    "\n",
    "import requests\n",
    "from pprint import pprint\n",
    "import json"
   ]
  },
  {
   "cell_type": "code",
   "execution_count": 86,
   "id": "b4965201",
   "metadata": {
    "ExecuteTime": {
     "end_time": "2022-11-18T11:28:54.318466Z",
     "start_time": "2022-11-18T11:28:54.160219Z"
    }
   },
   "outputs": [
    {
     "data": {
      "text/plain": [
       "<Response [200]>"
      ]
     },
     "execution_count": 86,
     "metadata": {},
     "output_type": "execute_result"
    }
   ],
   "source": [
    "url_weather = ('https://archive-api.open-meteo.com/v1/era5?latitude=52.50&longitude=-1.47&start_date=2022-04-01&end_date=2022-10-15&daily=temperature_2m_max,temperature_2m_min,sunrise,sunset,rain_sum,windspeed_10m_max,winddirection_10m_dominant&timezone=auto&format=json')\n",
    "\n",
    "r = requests.get(url_weather)\n",
    "\n",
    "r"
   ]
  },
  {
   "cell_type": "code",
   "execution_count": 87,
   "id": "18495cf1",
   "metadata": {
    "ExecuteTime": {
     "end_time": "2022-11-18T11:28:55.124509Z",
     "start_time": "2022-11-18T11:28:55.099828Z"
    }
   },
   "outputs": [
    {
     "data": {
      "text/plain": [
       "'utf-8'"
      ]
     },
     "execution_count": 87,
     "metadata": {},
     "output_type": "execute_result"
    }
   ],
   "source": [
    "r.encoding"
   ]
  },
  {
   "cell_type": "code",
   "execution_count": 88,
   "id": "4ac95f03",
   "metadata": {
    "ExecuteTime": {
     "end_time": "2022-11-18T11:28:55.829898Z",
     "start_time": "2022-11-18T11:28:55.815055Z"
    }
   },
   "outputs": [
    {
     "data": {
      "text/plain": [
       "dict"
      ]
     },
     "execution_count": 88,
     "metadata": {},
     "output_type": "execute_result"
    }
   ],
   "source": [
    "type(data_weather)"
   ]
  },
  {
   "cell_type": "code",
   "execution_count": 89,
   "id": "ba89c4cb",
   "metadata": {
    "ExecuteTime": {
     "end_time": "2022-11-18T11:28:58.233221Z",
     "start_time": "2022-11-18T11:28:58.211617Z"
    }
   },
   "outputs": [
    {
     "data": {
      "text/plain": [
       "dict_keys(['latitude', 'longitude', 'generationtime_ms', 'utc_offset_seconds', 'timezone', 'timezone_abbreviation', 'elevation', 'daily_units', 'daily'])"
      ]
     },
     "execution_count": 89,
     "metadata": {},
     "output_type": "execute_result"
    }
   ],
   "source": [
    "data_weather.keys()"
   ]
  },
  {
   "cell_type": "code",
   "execution_count": 90,
   "id": "9d547261",
   "metadata": {
    "ExecuteTime": {
     "end_time": "2022-11-18T11:28:59.514313Z",
     "start_time": "2022-11-18T11:28:59.494385Z"
    }
   },
   "outputs": [],
   "source": [
    "data_weather = r.json()\n",
    "#data_weather"
   ]
  },
  {
   "cell_type": "code",
   "execution_count": 91,
   "id": "892f802a",
   "metadata": {
    "ExecuteTime": {
     "end_time": "2022-11-18T11:29:00.667544Z",
     "start_time": "2022-11-18T11:29:00.657020Z"
    }
   },
   "outputs": [
    {
     "data": {
      "text/plain": [
       "dict_keys(['time', 'temperature_2m_max', 'temperature_2m_min', 'sunrise', 'sunset', 'rain_sum', 'windspeed_10m_max', 'winddirection_10m_dominant'])"
      ]
     },
     "execution_count": 91,
     "metadata": {},
     "output_type": "execute_result"
    }
   ],
   "source": [
    "real = data_weather['daily']\n",
    "real.keys()"
   ]
  },
  {
   "cell_type": "code",
   "execution_count": 92,
   "id": "54336e1d",
   "metadata": {
    "ExecuteTime": {
     "end_time": "2022-11-18T11:29:02.138686Z",
     "start_time": "2022-11-18T11:29:02.112709Z"
    }
   },
   "outputs": [
    {
     "data": {
      "text/html": [
       "<div>\n",
       "<style scoped>\n",
       "    .dataframe tbody tr th:only-of-type {\n",
       "        vertical-align: middle;\n",
       "    }\n",
       "\n",
       "    .dataframe tbody tr th {\n",
       "        vertical-align: top;\n",
       "    }\n",
       "\n",
       "    .dataframe thead th {\n",
       "        text-align: right;\n",
       "    }\n",
       "</style>\n",
       "<table border=\"1\" class=\"dataframe\">\n",
       "  <thead>\n",
       "    <tr style=\"text-align: right;\">\n",
       "      <th></th>\n",
       "      <th>time</th>\n",
       "      <th>temperature_2m_max</th>\n",
       "      <th>temperature_2m_min</th>\n",
       "      <th>sunrise</th>\n",
       "      <th>sunset</th>\n",
       "      <th>rain_sum</th>\n",
       "      <th>windspeed_10m_max</th>\n",
       "      <th>winddirection_10m_dominant</th>\n",
       "    </tr>\n",
       "  </thead>\n",
       "  <tbody>\n",
       "    <tr>\n",
       "      <th>0</th>\n",
       "      <td>2022-04-01</td>\n",
       "      <td>7.3</td>\n",
       "      <td>-0.2</td>\n",
       "      <td>2022-04-01T05:38</td>\n",
       "      <td>2022-04-01T18:41</td>\n",
       "      <td>1.0</td>\n",
       "      <td>26.2</td>\n",
       "      <td>93</td>\n",
       "    </tr>\n",
       "    <tr>\n",
       "      <th>1</th>\n",
       "      <td>2022-04-02</td>\n",
       "      <td>7.5</td>\n",
       "      <td>-1.4</td>\n",
       "      <td>2022-04-02T05:35</td>\n",
       "      <td>2022-04-02T18:43</td>\n",
       "      <td>1.5</td>\n",
       "      <td>12.7</td>\n",
       "      <td>63</td>\n",
       "    </tr>\n",
       "    <tr>\n",
       "      <th>2</th>\n",
       "      <td>2022-04-03</td>\n",
       "      <td>9.6</td>\n",
       "      <td>-2.1</td>\n",
       "      <td>2022-04-03T05:33</td>\n",
       "      <td>2022-04-03T18:44</td>\n",
       "      <td>0.7</td>\n",
       "      <td>20.6</td>\n",
       "      <td>166</td>\n",
       "    </tr>\n",
       "    <tr>\n",
       "      <th>3</th>\n",
       "      <td>2022-04-04</td>\n",
       "      <td>12.6</td>\n",
       "      <td>5.3</td>\n",
       "      <td>2022-04-04T05:31</td>\n",
       "      <td>2022-04-04T18:46</td>\n",
       "      <td>5.6</td>\n",
       "      <td>28.6</td>\n",
       "      <td>182</td>\n",
       "    </tr>\n",
       "    <tr>\n",
       "      <th>4</th>\n",
       "      <td>2022-04-05</td>\n",
       "      <td>13.0</td>\n",
       "      <td>9.4</td>\n",
       "      <td>2022-04-05T05:28</td>\n",
       "      <td>2022-04-05T18:48</td>\n",
       "      <td>0.7</td>\n",
       "      <td>25.6</td>\n",
       "      <td>185</td>\n",
       "    </tr>\n",
       "  </tbody>\n",
       "</table>\n",
       "</div>"
      ],
      "text/plain": [
       "         time  temperature_2m_max  temperature_2m_min           sunrise  \\\n",
       "0  2022-04-01                 7.3                -0.2  2022-04-01T05:38   \n",
       "1  2022-04-02                 7.5                -1.4  2022-04-02T05:35   \n",
       "2  2022-04-03                 9.6                -2.1  2022-04-03T05:33   \n",
       "3  2022-04-04                12.6                 5.3  2022-04-04T05:31   \n",
       "4  2022-04-05                13.0                 9.4  2022-04-05T05:28   \n",
       "\n",
       "             sunset  rain_sum  windspeed_10m_max  winddirection_10m_dominant  \n",
       "0  2022-04-01T18:41       1.0               26.2                          93  \n",
       "1  2022-04-02T18:43       1.5               12.7                          63  \n",
       "2  2022-04-03T18:44       0.7               20.6                         166  \n",
       "3  2022-04-04T18:46       5.6               28.6                         182  \n",
       "4  2022-04-05T18:48       0.7               25.6                         185  "
      ]
     },
     "execution_count": 92,
     "metadata": {},
     "output_type": "execute_result"
    }
   ],
   "source": [
    "import pandas as pd\n",
    "df_weather = pd.DataFrame(real)\n",
    "df_weather.head()"
   ]
  },
  {
   "cell_type": "code",
   "execution_count": 93,
   "id": "497a74fc",
   "metadata": {
    "ExecuteTime": {
     "end_time": "2022-11-18T11:29:05.565766Z",
     "start_time": "2022-11-18T11:29:05.534375Z"
    }
   },
   "outputs": [
    {
     "data": {
      "text/plain": [
       "time                           object\n",
       "temperature_2m_max            float64\n",
       "temperature_2m_min            float64\n",
       "sunrise                        object\n",
       "sunset                         object\n",
       "rain_sum                      float64\n",
       "windspeed_10m_max             float64\n",
       "winddirection_10m_dominant      int64\n",
       "dtype: object"
      ]
     },
     "execution_count": 93,
     "metadata": {},
     "output_type": "execute_result"
    }
   ],
   "source": [
    "df_weather.dtypes"
   ]
  },
  {
   "cell_type": "code",
   "execution_count": 94,
   "id": "deda38ba",
   "metadata": {
    "ExecuteTime": {
     "end_time": "2022-11-18T11:29:06.358326Z",
     "start_time": "2022-11-18T11:29:06.335260Z"
    }
   },
   "outputs": [],
   "source": [
    "import seaborn as sns\n",
    "import numpy as np\n",
    "import matplotlib.pyplot as plt\n",
    "%matplotlib inline"
   ]
  },
  {
   "cell_type": "code",
   "execution_count": 95,
   "id": "176068e8",
   "metadata": {
    "ExecuteTime": {
     "end_time": "2022-11-18T11:29:09.157957Z",
     "start_time": "2022-11-18T11:29:09.149836Z"
    }
   },
   "outputs": [],
   "source": [
    "from datetime import date as dt"
   ]
  },
  {
   "cell_type": "code",
   "execution_count": 96,
   "id": "4820bb54",
   "metadata": {
    "ExecuteTime": {
     "end_time": "2022-11-18T11:29:13.136113Z",
     "start_time": "2022-11-18T11:29:13.111085Z"
    }
   },
   "outputs": [],
   "source": [
    "df_weather['time'] = pd.to_datetime(df_weather['time'])\n"
   ]
  },
  {
   "cell_type": "code",
   "execution_count": 97,
   "id": "974095be",
   "metadata": {
    "ExecuteTime": {
     "end_time": "2022-11-18T11:29:14.575883Z",
     "start_time": "2022-11-18T11:29:14.549204Z"
    }
   },
   "outputs": [
    {
     "data": {
      "text/plain": [
       "time\n",
       "4     13.483333\n",
       "5     16.980645\n",
       "6     19.620000\n",
       "7     23.364516\n",
       "8     23.832258\n",
       "9     18.183333\n",
       "10    15.966667\n",
       "Name: temperature_2m_max, dtype: float64"
      ]
     },
     "execution_count": 97,
     "metadata": {},
     "output_type": "execute_result"
    }
   ],
   "source": [
    "#Making groups accordind to the month\n",
    "\n",
    "groups = df_weather.groupby(df_weather.time.dt.month)['temperature_2m_max'].mean()\n",
    "groups"
   ]
  },
  {
   "cell_type": "code",
   "execution_count": 108,
   "id": "8c078b6f",
   "metadata": {
    "ExecuteTime": {
     "end_time": "2022-11-18T11:41:32.366790Z",
     "start_time": "2022-11-18T11:41:32.137888Z"
    }
   },
   "outputs": [
    {
     "data": {
      "text/plain": [
       "Text(0.5, 1.0, 'The Monthly Change of Average Max Temperature 2022')"
      ]
     },
     "execution_count": 108,
     "metadata": {},
     "output_type": "execute_result"
    },
    {
     "data": {
      "image/png": "[encoded data removed]",
      "text/plain": [
       "<Figure size 720x504 with 1 Axes>"
      ]
     },
     "metadata": {
      "needs_background": "light"
     },
     "output_type": "display_data"
    }
   ],
   "source": [
    "plt.figure(figsize=(10,7))\n",
    "\n",
    "ax = groups.plot.bar()\n",
    "\n",
    "ax.tick_params(axis='x', labelsize=13)\n",
    "ax.tick_params(axis='y', labelsize=13)\n",
    "ax.set_xlabel('Month', fontsize=15)\n",
    "ax.set_ylabel('Average Max Temperature', fontsize=15)\n",
    "ax.set_title('The Monthly Change of Average Max Temperature 2022', fontsize=20)"
   ]
  },
  {
   "cell_type": "code",
   "execution_count": 74,
   "id": "66fa2984",
   "metadata": {
    "ExecuteTime": {
     "end_time": "2022-11-18T11:11:10.866146Z",
     "start_time": "2022-11-18T11:11:08.952215Z"
    }
   },
   "outputs": [
    {
     "data": {
      "text/plain": [
       "Text(0.5, 1.0, 'The Daily Change of Temperature')"
      ]
     },
     "execution_count": 74,
     "metadata": {},
     "output_type": "execute_result"
    },
    {
     "data": {
      "image/png": "[encoded data removed]",
      "text/plain": [
       "<Figure size 1440x504 with 1 Axes>"
      ]
     },
     "metadata": {
      "needs_background": "light"
     },
     "output_type": "display_data"
    }
   ],
   "source": [
    "plt.figure(figsize=(20,7))\n",
    "\n",
    "ax = sns.lineplot(data=df_weather, x='time', y='temperature_2m_max')\n",
    "\n",
    "ax.tick_params(axis='x', rotation=90)\n",
    "ax.set_xlabel('Date', fontsize=20)\n",
    "ax.set_ylabel('Max Temperature', fontsize=20)\n",
    "ax.set_title('The Daily Change of Temperature', fontsize=40)"
   ]
  },
  {
   "cell_type": "code",
   "execution_count": 120,
   "id": "6b239e44",
   "metadata": {
    "ExecuteTime": {
     "end_time": "2022-11-18T11:58:50.131814Z",
     "start_time": "2022-11-18T11:58:50.107126Z"
    }
   },
   "outputs": [
    {
     "data": {
      "text/plain": [
       "time\n",
       "4     1.040000\n",
       "5     2.290323\n",
       "6     1.620000\n",
       "7     0.874194\n",
       "8     1.319355\n",
       "9     2.503333\n",
       "10    1.346667\n",
       "Name: rain_sum, dtype: float64"
      ]
     },
     "execution_count": 120,
     "metadata": {},
     "output_type": "execute_result"
    }
   ],
   "source": [
    "#Grouping for rain\n",
    "\n",
    "groups_rain = df_weather.groupby(df_weather.time.dt.month)['rain_sum'].mean()\n",
    "groups_rain"
   ]
  },
  {
   "cell_type": "code",
   "execution_count": 124,
   "id": "eba53837",
   "metadata": {
    "ExecuteTime": {
     "end_time": "2022-11-18T11:59:16.673270Z",
     "start_time": "2022-11-18T11:59:16.458069Z"
    }
   },
   "outputs": [
    {
     "data": {
      "text/plain": [
       "Text(0.5, 1.0, 'The Monthly Change of Average Rain 2022')"
      ]
     },
     "execution_count": 124,
     "metadata": {},
     "output_type": "execute_result"
    },
    {
     "data": {
      "image/png": "[encoded data removed]",
      "text/plain": [
       "<Figure size 720x504 with 1 Axes>"
      ]
     },
     "metadata": {
      "needs_background": "light"
     },
     "output_type": "display_data"
    }
   ],
   "source": [
    "#Making a rain graph of 2022\n",
    "\n",
    "plt.figure(figsize=(10,7))\n",
    "\n",
    "ax = groups_rain.plot.bar()\n",
    "\n",
    "ax.tick_params(axis='x', labelsize=13)\n",
    "ax.tick_params(axis='y', labelsize=13)\n",
    "ax.set_xlabel('Month', fontsize=15)\n",
    "ax.set_ylabel('Average Rain (mm)', fontsize=15)\n",
    "ax.set_title('The Monthly Change of Average Rain 2022', fontsize=20)"
   ]
  },
  {
   "cell_type": "code",
   "execution_count": 125,
   "id": "17b02bc3",
   "metadata": {
    "ExecuteTime": {
     "end_time": "2022-11-18T12:02:55.903854Z",
     "start_time": "2022-11-18T12:02:55.360828Z"
    }
   },
   "outputs": [],
   "source": [
    "#humidity\n",
    "\n",
    "url_humidity = ('https://archive-api.open-meteo.com/v1/era5?latitude=51.42&longitude=-0.21&start_date=2022-04-01&end_date=2022-10-15&hourly=temperature_2m,relativehumidity_2m,apparent_temperature,cloudcover,cloudcover_low,cloudcover_mid,cloudcover_high,windspeed_10m,windspeed_100m,winddirection_10m,winddirection_100m,windgusts_10m&daily=temperature_2m_max,apparent_temperature_max,windspeed_10m_max,windgusts_10m_max,winddirection_10m_dominant&timezone=auto')\n",
    "\n",
    "r_humidity = requests.get(url_humidity)\n",
    "\n",
    "humidity_data = r_humidity.json()"
   ]
  },
  {
   "cell_type": "code",
   "execution_count": 128,
   "id": "d9b91d47",
   "metadata": {
    "ExecuteTime": {
     "end_time": "2022-11-18T12:04:23.515236Z",
     "start_time": "2022-11-18T12:04:23.489494Z"
    }
   },
   "outputs": [
    {
     "data": {
      "text/plain": [
       "dict_keys(['time', 'temperature_2m', 'relativehumidity_2m', 'apparent_temperature', 'cloudcover', 'cloudcover_low', 'cloudcover_mid', 'cloudcover_high', 'windspeed_10m', 'windspeed_100m', 'winddirection_10m', 'winddirection_100m', 'windgusts_10m'])"
      ]
     },
     "execution_count": 128,
     "metadata": {},
     "output_type": "execute_result"
    }
   ],
   "source": [
    "humidity = humidity_data['hourly']\n",
    "humidity.keys()"
   ]
  },
  {
   "cell_type": "code",
   "execution_count": 129,
   "id": "903c6bbb",
   "metadata": {
    "ExecuteTime": {
     "end_time": "2022-11-18T12:07:14.164092Z",
     "start_time": "2022-11-18T12:07:14.121566Z"
    }
   },
   "outputs": [
    {
     "data": {
      "text/html": [
       "<div>\n",
       "<style scoped>\n",
       "    .dataframe tbody tr th:only-of-type {\n",
       "        vertical-align: middle;\n",
       "    }\n",
       "\n",
       "    .dataframe tbody tr th {\n",
       "        vertical-align: top;\n",
       "    }\n",
       "\n",
       "    .dataframe thead th {\n",
       "        text-align: right;\n",
       "    }\n",
       "</style>\n",
       "<table border=\"1\" class=\"dataframe\">\n",
       "  <thead>\n",
       "    <tr style=\"text-align: right;\">\n",
       "      <th></th>\n",
       "      <th>time</th>\n",
       "      <th>temperature_2m</th>\n",
       "      <th>relativehumidity_2m</th>\n",
       "      <th>apparent_temperature</th>\n",
       "      <th>cloudcover</th>\n",
       "      <th>cloudcover_low</th>\n",
       "      <th>cloudcover_mid</th>\n",
       "      <th>cloudcover_high</th>\n",
       "      <th>windspeed_10m</th>\n",
       "      <th>windspeed_100m</th>\n",
       "      <th>winddirection_10m</th>\n",
       "      <th>winddirection_100m</th>\n",
       "      <th>windgusts_10m</th>\n",
       "    </tr>\n",
       "  </thead>\n",
       "  <tbody>\n",
       "    <tr>\n",
       "      <th>0</th>\n",
       "      <td>2022-04-01T00:00</td>\n",
       "      <td>1.4</td>\n",
       "      <td>74</td>\n",
       "      <td>-4.6</td>\n",
       "      <td>7</td>\n",
       "      <td>1</td>\n",
       "      <td>5</td>\n",
       "      <td>10</td>\n",
       "      <td>23.9</td>\n",
       "      <td>39.5</td>\n",
       "      <td>106</td>\n",
       "      <td>103</td>\n",
       "      <td>47.2</td>\n",
       "    </tr>\n",
       "    <tr>\n",
       "      <th>1</th>\n",
       "      <td>2022-04-01T01:00</td>\n",
       "      <td>1.2</td>\n",
       "      <td>76</td>\n",
       "      <td>-4.8</td>\n",
       "      <td>21</td>\n",
       "      <td>1</td>\n",
       "      <td>16</td>\n",
       "      <td>36</td>\n",
       "      <td>24.4</td>\n",
       "      <td>40.3</td>\n",
       "      <td>106</td>\n",
       "      <td>103</td>\n",
       "      <td>47.5</td>\n",
       "    </tr>\n",
       "    <tr>\n",
       "      <th>2</th>\n",
       "      <td>2022-04-01T02:00</td>\n",
       "      <td>1.2</td>\n",
       "      <td>76</td>\n",
       "      <td>-4.9</td>\n",
       "      <td>31</td>\n",
       "      <td>8</td>\n",
       "      <td>17</td>\n",
       "      <td>44</td>\n",
       "      <td>24.8</td>\n",
       "      <td>41.0</td>\n",
       "      <td>103</td>\n",
       "      <td>100</td>\n",
       "      <td>47.9</td>\n",
       "    </tr>\n",
       "    <tr>\n",
       "      <th>3</th>\n",
       "      <td>2022-04-01T03:00</td>\n",
       "      <td>1.1</td>\n",
       "      <td>78</td>\n",
       "      <td>-4.9</td>\n",
       "      <td>26</td>\n",
       "      <td>7</td>\n",
       "      <td>16</td>\n",
       "      <td>34</td>\n",
       "      <td>24.9</td>\n",
       "      <td>40.7</td>\n",
       "      <td>101</td>\n",
       "      <td>98</td>\n",
       "      <td>47.5</td>\n",
       "    </tr>\n",
       "    <tr>\n",
       "      <th>4</th>\n",
       "      <td>2022-04-01T04:00</td>\n",
       "      <td>1.1</td>\n",
       "      <td>79</td>\n",
       "      <td>-4.9</td>\n",
       "      <td>25</td>\n",
       "      <td>8</td>\n",
       "      <td>13</td>\n",
       "      <td>32</td>\n",
       "      <td>24.4</td>\n",
       "      <td>40.6</td>\n",
       "      <td>99</td>\n",
       "      <td>96</td>\n",
       "      <td>47.5</td>\n",
       "    </tr>\n",
       "  </tbody>\n",
       "</table>\n",
       "</div>"
      ],
      "text/plain": [
       "               time  temperature_2m  relativehumidity_2m  \\\n",
       "0  2022-04-01T00:00             1.4                   74   \n",
       "1  2022-04-01T01:00             1.2                   76   \n",
       "2  2022-04-01T02:00             1.2                   76   \n",
       "3  2022-04-01T03:00             1.1                   78   \n",
       "4  2022-04-01T04:00             1.1                   79   \n",
       "\n",
       "   apparent_temperature  cloudcover  cloudcover_low  cloudcover_mid  \\\n",
       "0                  -4.6           7               1               5   \n",
       "1                  -4.8          21               1              16   \n",
       "2                  -4.9          31               8              17   \n",
       "3                  -4.9          26               7              16   \n",
       "4                  -4.9          25               8              13   \n",
       "\n",
       "   cloudcover_high  windspeed_10m  windspeed_100m  winddirection_10m  \\\n",
       "0               10           23.9            39.5                106   \n",
       "1               36           24.4            40.3                106   \n",
       "2               44           24.8            41.0                103   \n",
       "3               34           24.9            40.7                101   \n",
       "4               32           24.4            40.6                 99   \n",
       "\n",
       "   winddirection_100m  windgusts_10m  \n",
       "0                 103           47.2  \n",
       "1                 103           47.5  \n",
       "2                 100           47.9  \n",
       "3                  98           47.5  \n",
       "4                  96           47.5  "
      ]
     },
     "execution_count": 129,
     "metadata": {},
     "output_type": "execute_result"
    }
   ],
   "source": [
    "df_humidity = pd.DataFrame(humidity)\n",
    "df_humidity.head()"
   ]
  },
  {
   "cell_type": "code",
   "execution_count": 130,
   "id": "47547af7",
   "metadata": {
    "ExecuteTime": {
     "end_time": "2022-11-18T12:07:25.609581Z",
     "start_time": "2022-11-18T12:07:25.589543Z"
    }
   },
   "outputs": [],
   "source": [
    "df_humidity['time'] = pd.to_datetime(df_humidity['time'])"
   ]
  },
  {
   "cell_type": "code",
   "execution_count": 131,
   "id": "2658ef39",
   "metadata": {
    "ExecuteTime": {
     "end_time": "2022-11-18T12:07:44.326754Z",
     "start_time": "2022-11-18T12:07:44.306162Z"
    }
   },
   "outputs": [
    {
     "data": {
      "text/plain": [
       "time\n",
       "4     71.451389\n",
       "5     73.930108\n",
       "6     71.026389\n",
       "7     62.610215\n",
       "8     68.212366\n",
       "9     79.127778\n",
       "10    81.722222\n",
       "Name: relativehumidity_2m, dtype: float64"
      ]
     },
     "execution_count": 131,
     "metadata": {},
     "output_type": "execute_result"
    }
   ],
   "source": [
    "groups_humidity = df_humidity.groupby(df_humidity.time.dt.month)['relativehumidity_2m'].mean()\n",
    "groups_humidity"
   ]
  },
  {
   "cell_type": "code",
   "execution_count": 132,
   "id": "46f764fe",
   "metadata": {
    "ExecuteTime": {
     "end_time": "2022-11-18T12:09:16.463410Z",
     "start_time": "2022-11-18T12:09:16.230338Z"
    }
   },
   "outputs": [
    {
     "data": {
      "text/plain": [
       "Text(0.5, 1.0, 'The Monthly Change of Humidity 2022')"
      ]
     },
     "execution_count": 132,
     "metadata": {},
     "output_type": "execute_result"
    },
    {
     "data": {
      "image/png": "[encoded data removed]",
      "text/plain": [
       "<Figure size 720x504 with 1 Axes>"
      ]
     },
     "metadata": {
      "needs_background": "light"
     },
     "output_type": "display_data"
    }
   ],
   "source": [
    "#Making a humidity graph of 2022\n",
    "\n",
    "plt.figure(figsize=(10,7))\n",
    "\n",
    "ax2 = groups_humidity.plot.bar()\n",
    "\n",
    "ax2.tick_params(axis='x', labelsize=13)\n",
    "ax2.tick_params(axis='y', labelsize=13)\n",
    "ax2.set_xlabel('Month', fontsize=15)\n",
    "ax2.set_ylabel('Average Humidity (%)', fontsize=15)\n",
    "ax2.set_title('The Monthly Change of Humidity 2022', fontsize=20)"
   ]
  },
  {
   "cell_type": "code",
   "execution_count": null,
   "id": "315d5cc4",
   "metadata": {},
   "outputs": [],
   "source": []
  }
 ],
 "metadata": {
  "kernelspec": {
   "display_name": "Python 3 (ipykernel)",
   "language": "python",
   "name": "python3"
  },
  "language_info": {
   "codemirror_mode": {
    "name": "ipython",
    "version": 3
   },
   "file_extension": ".py",
   "mimetype": "text/x-python",
   "name": "python",
   "nbconvert_exporter": "python",
   "pygments_lexer": "ipython3",
   "version": "3.9.7"
  },
  "varInspector": {
   "cols": {
    "lenName": 16,
    "lenType": 16,
    "lenVar": 40
   },
   "kernels_config": {
    "python": {
     "delete_cmd_postfix": "",
     "delete_cmd_prefix": "del ",
     "library": "var_list.py",
     "varRefreshCmd": "print(var_dic_list())"
    },
    "r": {
     "delete_cmd_postfix": ") ",
     "delete_cmd_prefix": "rm(",
     "library": "var_list.r",
     "varRefreshCmd": "cat(var_dic_list()) "
    }
   },
   "types_to_exclude": [
    "module",
    "function",
    "builtin_function_or_method",
    "instance",
    "_Feature"
   ],
   "window_display": false
  }
 },
 "nbformat": 4,
 "nbformat_minor": 5
}
